{
  "nbformat": 4,
  "nbformat_minor": 0,
  "metadata": {
    "colab": {
      "name": "GL-Assignment1-1",
      "version": "0.3.2",
      "provenance": [],
      "collapsed_sections": [],
      "include_colab_link": true
    },
    "kernelspec": {
      "name": "python3",
      "display_name": "Python 3"
    }
  },
  "cells": [
    {
      "cell_type": "markdown",
      "metadata": {
        "id": "view-in-github",
        "colab_type": "text"
      },
      "source": [
        "<a href=\"https://colab.research.google.com/github/aks1981/group-learning/blob/master/GL_Assignment1_1.ipynb\" target=\"_parent\"><img src=\"https://colab.research.google.com/assets/colab-badge.svg\" alt=\"Open In Colab\"/></a>"
      ]
    },
    {
      "cell_type": "markdown",
      "metadata": {
        "id": "v72sIcLfn9GD",
        "colab_type": "text"
      },
      "source": [
        "##Assignment 1.\n",
        "Write program for Euclidean algorithm (GCD)."
      ]
    },
    {
      "cell_type": "code",
      "metadata": {
        "id": "kLzoQuWrGHHs",
        "colab_type": "code",
        "colab": {
          "base_uri": "https://localhost:8080/",
          "height": 51
        },
        "outputId": "3824c83c-d528-45b8-8147-27eab1289703"
      },
      "source": [
        "def gcd(a, b):\n",
        "  while b!=0:\n",
        "    r = a%b\n",
        "    a = b\n",
        "    b = r\n",
        "  return a\n",
        "    \n",
        "\n",
        "print(\"GCD of 20 and 8\" )\n",
        "print(gcd(20,8))\n",
        "    "
      ],
      "execution_count": 9,
      "outputs": [
        {
          "output_type": "stream",
          "text": [
            "GCD of 20 and 8\n",
            "4\n"
          ],
          "name": "stdout"
        }
      ]
    }
  ]
}